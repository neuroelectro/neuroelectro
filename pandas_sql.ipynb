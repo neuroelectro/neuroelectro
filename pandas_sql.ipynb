{
 "cells": [
  {
   "cell_type": "code",
   "execution_count": 1,
   "metadata": {
    "collapsed": true
   },
   "outputs": [],
   "source": [
    "import os\n",
    "import pandas\n",
    "import sqlite3"
   ]
  },
  {
   "cell_type": "code",
   "execution_count": 2,
   "metadata": {
    "collapsed": false
   },
   "outputs": [],
   "source": [
    "HOME = os.path.expanduser('~')\n",
    "DB_PATH = os.path.join(HOME,'.neuroelectro','neuroelectro.db')\n",
    "conn = sqlite3.connect(DB_PATH)"
   ]
  },
  {
   "cell_type": "code",
   "execution_count": 3,
   "metadata": {
    "collapsed": false
   },
   "outputs": [
    {
     "data": {
      "text/html": [
       "<div>\n",
       "<table border=\"1\" class=\"dataframe\">\n",
       "  <thead>\n",
       "    <tr style=\"text-align: right;\">\n",
       "      <th></th>\n",
       "      <th>id</th>\n",
       "      <th>name</th>\n",
       "      <th>nlex_id</th>\n",
       "      <th>neuron_db_id</th>\n",
       "      <th>date_mod</th>\n",
       "      <th>added_by</th>\n",
       "    </tr>\n",
       "  </thead>\n",
       "  <tbody>\n",
       "    <tr>\n",
       "      <th>0</th>\n",
       "      <td>1</td>\n",
       "      <td>Abducens nucleus motor neuron</td>\n",
       "      <td>nlx_16848</td>\n",
       "      <td>NaN</td>\n",
       "      <td>2012-07-03 09:38:24</td>\n",
       "      <td>None</td>\n",
       "    </tr>\n",
       "    <tr>\n",
       "      <th>1</th>\n",
       "      <td>2</td>\n",
       "      <td>Amygdala basolateral nucleus pyramidal neuron</td>\n",
       "      <td>nifext_152</td>\n",
       "      <td>NaN</td>\n",
       "      <td>2013-06-15 13:58:09</td>\n",
       "      <td>None</td>\n",
       "    </tr>\n",
       "    <tr>\n",
       "      <th>2</th>\n",
       "      <td>3</td>\n",
       "      <td>Amygdala corticomedial nucleus pyramidal cell</td>\n",
       "      <td>nifext_151</td>\n",
       "      <td>NaN</td>\n",
       "      <td>2013-06-15 13:58:09</td>\n",
       "      <td>None</td>\n",
       "    </tr>\n",
       "    <tr>\n",
       "      <th>3</th>\n",
       "      <td>4</td>\n",
       "      <td>Amygdaloid nucleus paracapsular intercalated cell</td>\n",
       "      <td>nlx_cell_100202</td>\n",
       "      <td>NaN</td>\n",
       "      <td>2013-06-15 13:58:06</td>\n",
       "      <td>None</td>\n",
       "    </tr>\n",
       "    <tr>\n",
       "      <th>4</th>\n",
       "      <td>5</td>\n",
       "      <td>BNST basket neuron</td>\n",
       "      <td>BAMSC988</td>\n",
       "      <td>NaN</td>\n",
       "      <td>None</td>\n",
       "      <td>None</td>\n",
       "    </tr>\n",
       "  </tbody>\n",
       "</table>\n",
       "</div>"
      ],
      "text/plain": [
       "   id                                               name          nlex_id  \\\n",
       "0   1                      Abducens nucleus motor neuron        nlx_16848   \n",
       "1   2      Amygdala basolateral nucleus pyramidal neuron       nifext_152   \n",
       "2   3      Amygdala corticomedial nucleus pyramidal cell       nifext_151   \n",
       "3   4  Amygdaloid nucleus paracapsular intercalated cell  nlx_cell_100202   \n",
       "4   5                                 BNST basket neuron         BAMSC988   \n",
       "\n",
       "   neuron_db_id             date_mod added_by  \n",
       "0           NaN  2012-07-03 09:38:24     None  \n",
       "1           NaN  2013-06-15 13:58:09     None  \n",
       "2           NaN  2013-06-15 13:58:09     None  \n",
       "3           NaN  2013-06-15 13:58:06     None  \n",
       "4           NaN                 None     None  "
      ]
     },
     "execution_count": 3,
     "metadata": {},
     "output_type": "execute_result"
    }
   ],
   "source": [
    "pandas.read_sql('SELECT * FROM neuroelectro_neuron', conn).head()"
   ]
  }
 ],
 "metadata": {
  "kernelspec": {
   "display_name": "Python 3",
   "language": "python",
   "name": "python3"
  },
  "language_info": {
   "codemirror_mode": {
    "name": "ipython",
    "version": 3
   },
   "file_extension": ".py",
   "mimetype": "text/x-python",
   "name": "python",
   "nbconvert_exporter": "python",
   "pygments_lexer": "ipython3",
   "version": "3.4.1"
  }
 },
 "nbformat": 4,
 "nbformat_minor": 0
}
